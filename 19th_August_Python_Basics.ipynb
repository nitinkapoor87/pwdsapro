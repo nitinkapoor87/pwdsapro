{
 "cells": [
  {
   "cell_type": "code",
   "execution_count": 16,
   "id": "1a34c842-e29e-4b91-8950-e29559caf972",
   "metadata": {},
   "outputs": [],
   "source": [
    "'''1. Declare two variables, `x` and `y`, and assign them integer values. Swap the\n",
    "values of these variables without using any temporary variable.'''\n",
    "x,y=1,10"
   ]
  },
  {
   "cell_type": "code",
   "execution_count": 17,
   "id": "f4bd361f-3693-4807-a7ec-7813129f9561",
   "metadata": {},
   "outputs": [
    {
     "name": "stdin",
     "output_type": "stream",
     "text": [
      " 10\n"
     ]
    }
   ],
   "source": [
    "x=int(input())"
   ]
  },
  {
   "cell_type": "code",
   "execution_count": 11,
   "id": "11672ef6-fd78-453a-acce-903fcc672cee",
   "metadata": {},
   "outputs": [
    {
     "data": {
      "text/plain": [
       "10"
      ]
     },
     "execution_count": 11,
     "metadata": {},
     "output_type": "execute_result"
    }
   ],
   "source": [
    "x"
   ]
  },
  {
   "cell_type": "code",
   "execution_count": 12,
   "id": "edbf1b10-79ee-49fd-8133-a8256234bff9",
   "metadata": {},
   "outputs": [
    {
     "name": "stdin",
     "output_type": "stream",
     "text": [
      " 1\n"
     ]
    }
   ],
   "source": [
    "y=int(input())"
   ]
  },
  {
   "cell_type": "code",
   "execution_count": 13,
   "id": "39c2e93e-cdcd-448d-9e24-d32e1ec9f7c6",
   "metadata": {},
   "outputs": [
    {
     "data": {
      "text/plain": [
       "1"
      ]
     },
     "execution_count": 13,
     "metadata": {},
     "output_type": "execute_result"
    }
   ],
   "source": [
    "y"
   ]
  },
  {
   "cell_type": "code",
   "execution_count": 15,
   "id": "4a5ea7f9-5ee9-4673-8f25-91ba35ede117",
   "metadata": {},
   "outputs": [
    {
     "name": "stdin",
     "output_type": "stream",
     "text": [
      " 10\n",
      " 15\n"
     ]
    }
   ],
   "source": [
    "'''2. Create a program that calculates the area of a rectangle. Take the length and\n",
    "width as inputs from the user and store them in variables. Calculate and\n",
    "display the area.'''\n",
    "lenght,width=float(input()),float(input())"
   ]
  },
  {
   "cell_type": "code",
   "execution_count": 16,
   "id": "36a58313-5e04-40af-88bc-5de81a64eec0",
   "metadata": {},
   "outputs": [],
   "source": [
    "area=lenght*width"
   ]
  },
  {
   "cell_type": "code",
   "execution_count": 17,
   "id": "58e81dca-34c8-44aa-876a-08d61aeb4580",
   "metadata": {},
   "outputs": [
    {
     "data": {
      "text/plain": [
       "150.0"
      ]
     },
     "execution_count": 17,
     "metadata": {},
     "output_type": "execute_result"
    }
   ],
   "source": [
    "area"
   ]
  },
  {
   "cell_type": "code",
   "execution_count": 6,
   "id": "254e35a7-61ac-4005-a243-3e45a8064a62",
   "metadata": {},
   "outputs": [
    {
     "name": "stdin",
     "output_type": "stream",
     "text": [
      " 37.5\n"
     ]
    }
   ],
   "source": [
    "'''3. Write a Python program that converts temperatures from Celsius to\n",
    "Fahrenheit. Take the temperature in Celsius as input, store it in a variable,\n",
    "convert it to Fahrenheit, and display the result.'''\n",
    "celsius=float(input())"
   ]
  },
  {
   "cell_type": "code",
   "execution_count": 7,
   "id": "ac2e911f-1ae7-4ca1-95a5-3e69b1f51645",
   "metadata": {},
   "outputs": [],
   "source": [
    "fahrenheight=celsius*9/5+32"
   ]
  },
  {
   "cell_type": "code",
   "execution_count": 9,
   "id": "965bde73-2963-49f2-b6b7-da607ead946f",
   "metadata": {},
   "outputs": [
    {
     "data": {
      "text/plain": [
       "99.5"
      ]
     },
     "execution_count": 9,
     "metadata": {},
     "output_type": "execute_result"
    }
   ],
   "source": [
    "fahrenheight"
   ]
  },
  {
   "cell_type": "code",
   "execution_count": 29,
   "id": "b7ce7fe0-c0fe-4727-9575-a660a86fbb70",
   "metadata": {},
   "outputs": [
    {
     "name": "stdin",
     "output_type": "stream",
     "text": [
      " pwskills\n"
     ]
    }
   ],
   "source": [
    "'''1. Write a Python program that takes a string as input and prints the length of\n",
    "the string.'''\n",
    "a=input()"
   ]
  },
  {
   "cell_type": "code",
   "execution_count": 30,
   "id": "8f43cb26-6479-4b25-b829-3ea56717802a",
   "metadata": {},
   "outputs": [
    {
     "data": {
      "text/plain": [
       "8"
      ]
     },
     "execution_count": 30,
     "metadata": {},
     "output_type": "execute_result"
    }
   ],
   "source": [
    "a.count('')-1"
   ]
  },
  {
   "cell_type": "code",
   "execution_count": 2,
   "id": "c2817f27-210d-42f5-b8a4-5a9a31816a7e",
   "metadata": {},
   "outputs": [
    {
     "name": "stdin",
     "output_type": "stream",
     "text": [
      " this is a sentence with vowels a,e,i,o,u\n"
     ]
    }
   ],
   "source": [
    "'''2. Create a program that takes a sentence from the user and counts the number\n",
    "of vowels (a, e, i, o, u) in the string.'''\n",
    "s=input()"
   ]
  },
  {
   "cell_type": "code",
   "execution_count": 3,
   "id": "1c2e4cc0-2ef0-41d2-9837-3b4dec81fea7",
   "metadata": {},
   "outputs": [],
   "source": [
    "a=s.count('a')"
   ]
  },
  {
   "cell_type": "code",
   "execution_count": 5,
   "id": "03fc460c-a77c-4897-9869-03d71ce32224",
   "metadata": {},
   "outputs": [],
   "source": [
    "e=s.count('e')"
   ]
  },
  {
   "cell_type": "code",
   "execution_count": 7,
   "id": "5a09d785-ba2a-4ef3-929e-ba3682091a2a",
   "metadata": {},
   "outputs": [],
   "source": [
    "i=s.count('i')"
   ]
  },
  {
   "cell_type": "code",
   "execution_count": 8,
   "id": "22afd936-81e5-4800-b264-a84563e263d2",
   "metadata": {},
   "outputs": [],
   "source": [
    "o=s.count('o')"
   ]
  },
  {
   "cell_type": "code",
   "execution_count": 9,
   "id": "15901531-723c-4e82-ae62-1048b628f069",
   "metadata": {},
   "outputs": [],
   "source": [
    "u=s.count('u')"
   ]
  },
  {
   "cell_type": "code",
   "execution_count": 10,
   "id": "3eb46672-41cf-4a9b-a2f3-99f7ebe48b53",
   "metadata": {},
   "outputs": [],
   "source": [
    "vowels=a+e+i+o+u"
   ]
  },
  {
   "cell_type": "code",
   "execution_count": 11,
   "id": "d3102b2a-972b-40f9-b2eb-1dc4359c9980",
   "metadata": {},
   "outputs": [
    {
     "data": {
      "text/plain": [
       "14"
      ]
     },
     "execution_count": 11,
     "metadata": {},
     "output_type": "execute_result"
    }
   ],
   "source": [
    "vowels"
   ]
  },
  {
   "cell_type": "code",
   "execution_count": 13,
   "id": "6e646609-3a7e-49c1-8eea-8b696c457f35",
   "metadata": {},
   "outputs": [],
   "source": [
    "'''Given a string, reverse the order of characters using string slicing and print\n",
    "the reversed string.'''\n",
    "p='pwskills'"
   ]
  },
  {
   "cell_type": "code",
   "execution_count": 14,
   "id": "51403a1f-d04a-476c-89b5-d7aab0385d54",
   "metadata": {},
   "outputs": [
    {
     "data": {
      "text/plain": [
       "'sllikswp'"
      ]
     },
     "execution_count": 14,
     "metadata": {},
     "output_type": "execute_result"
    }
   ],
   "source": [
    "p[::-1]"
   ]
  },
  {
   "cell_type": "code",
   "execution_count": 66,
   "id": "52abb43a-27da-4ade-a28d-c7fb827cf12b",
   "metadata": {},
   "outputs": [
    {
     "name": "stdin",
     "output_type": "stream",
     "text": [
      " pwskills\n"
     ]
    }
   ],
   "source": [
    "'''Write a program that takes a string as input and checks if it is a palindrome\n",
    "(reads the same forwards and backwards).'''\n",
    "n=input()"
   ]
  },
  {
   "cell_type": "code",
   "execution_count": 68,
   "id": "f5c58f21-3fec-4499-9d47-b847973a740c",
   "metadata": {},
   "outputs": [],
   "source": [
    "n1=n[0::]"
   ]
  },
  {
   "cell_type": "code",
   "execution_count": 69,
   "id": "8da9eaa0-cac6-4d24-893a-3d126287aea5",
   "metadata": {},
   "outputs": [],
   "source": [
    "n2=n[::-1]"
   ]
  },
  {
   "cell_type": "code",
   "execution_count": 70,
   "id": "e1a317ca-6227-4ad3-8850-c4343e6c3fff",
   "metadata": {},
   "outputs": [],
   "source": [
    "palindrome=n1+\" \" +n2"
   ]
  },
  {
   "cell_type": "code",
   "execution_count": 72,
   "id": "45417d49-c971-4bd9-a0c9-223038018d3a",
   "metadata": {},
   "outputs": [
    {
     "data": {
      "text/plain": [
       "'pwskills sllikswp'"
      ]
     },
     "execution_count": 72,
     "metadata": {},
     "output_type": "execute_result"
    }
   ],
   "source": [
    "palindrome"
   ]
  },
  {
   "cell_type": "code",
   "execution_count": 76,
   "id": "e9932845-0ed8-4b92-bec7-52c8d4be03ee",
   "metadata": {},
   "outputs": [],
   "source": [
    "#If same words appear twice then its palindrome or else not"
   ]
  },
  {
   "cell_type": "code",
   "execution_count": 78,
   "id": "27d9a0e0-1fa9-4b54-ac93-7b44d6b4494f",
   "metadata": {},
   "outputs": [
    {
     "name": "stdin",
     "output_type": "stream",
     "text": [
      " removes all the spaces\n"
     ]
    }
   ],
   "source": [
    "'''5. Create a program that takes a string as input and removes all the spaces from\n",
    "it. Print the modified string without spaces.'''\n",
    "r=input()"
   ]
  },
  {
   "cell_type": "code",
   "execution_count": 89,
   "id": "762c67bd-ba1a-4b50-9b68-dd0ff71c81c4",
   "metadata": {},
   "outputs": [
    {
     "data": {
      "text/plain": [
       "'removesallthespaces'"
      ]
     },
     "execution_count": 89,
     "metadata": {},
     "output_type": "execute_result"
    }
   ],
   "source": [
    "r.replace(\" \",\"\")"
   ]
  }
 ],
 "metadata": {
  "kernelspec": {
   "display_name": "Python 3 (ipykernel)",
   "language": "python",
   "name": "python3"
  },
  "language_info": {
   "codemirror_mode": {
    "name": "ipython",
    "version": 3
   },
   "file_extension": ".py",
   "mimetype": "text/x-python",
   "name": "python",
   "nbconvert_exporter": "python",
   "pygments_lexer": "ipython3",
   "version": "3.10.8"
  }
 },
 "nbformat": 4,
 "nbformat_minor": 5
}
